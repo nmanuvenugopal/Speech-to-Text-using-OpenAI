{
 "cells": [
  {
   "cell_type": "code",
   "execution_count": 2,
   "metadata": {},
   "outputs": [
    {
     "name": "stdout",
     "output_type": "stream",
     "text": [
      "Requirement already satisfied: openai in c:\\users\\manu.venugopalan\\appdata\\local\\programs\\python\\python39\\lib\\site-packages (0.27.8)\n",
      "Requirement already satisfied: requests>=2.20 in c:\\users\\manu.venugopalan\\appdata\\local\\programs\\python\\python39\\lib\\site-packages (from openai) (2.31.0)\n",
      "Requirement already satisfied: tqdm in c:\\users\\manu.venugopalan\\appdata\\local\\programs\\python\\python39\\lib\\site-packages (from openai) (4.65.0)\n",
      "Requirement already satisfied: aiohttp in c:\\users\\manu.venugopalan\\appdata\\local\\programs\\python\\python39\\lib\\site-packages (from openai) (3.8.5)\n",
      "Requirement already satisfied: charset-normalizer<4,>=2 in c:\\users\\manu.venugopalan\\appdata\\local\\programs\\python\\python39\\lib\\site-packages (from requests>=2.20->openai) (3.2.0)\n",
      "Requirement already satisfied: idna<4,>=2.5 in c:\\users\\manu.venugopalan\\appdata\\local\\programs\\python\\python39\\lib\\site-packages (from requests>=2.20->openai) (3.4)\n",
      "Requirement already satisfied: urllib3<3,>=1.21.1 in c:\\users\\manu.venugopalan\\appdata\\local\\programs\\python\\python39\\lib\\site-packages (from requests>=2.20->openai) (1.26.16)\n",
      "Requirement already satisfied: certifi>=2017.4.17 in c:\\users\\manu.venugopalan\\appdata\\local\\programs\\python\\python39\\lib\\site-packages (from requests>=2.20->openai) (2023.7.22)\n",
      "Requirement already satisfied: attrs>=17.3.0 in c:\\users\\manu.venugopalan\\appdata\\local\\programs\\python\\python39\\lib\\site-packages (from aiohttp->openai) (23.1.0)\n",
      "Requirement already satisfied: multidict<7.0,>=4.5 in c:\\users\\manu.venugopalan\\appdata\\local\\programs\\python\\python39\\lib\\site-packages (from aiohttp->openai) (6.0.4)\n",
      "Requirement already satisfied: async-timeout<5.0,>=4.0.0a3 in c:\\users\\manu.venugopalan\\appdata\\local\\programs\\python\\python39\\lib\\site-packages (from aiohttp->openai) (4.0.2)\n",
      "Requirement already satisfied: yarl<2.0,>=1.0 in c:\\users\\manu.venugopalan\\appdata\\local\\programs\\python\\python39\\lib\\site-packages (from aiohttp->openai) (1.9.2)\n",
      "Requirement already satisfied: frozenlist>=1.1.1 in c:\\users\\manu.venugopalan\\appdata\\local\\programs\\python\\python39\\lib\\site-packages (from aiohttp->openai) (1.4.0)\n",
      "Requirement already satisfied: aiosignal>=1.1.2 in c:\\users\\manu.venugopalan\\appdata\\local\\programs\\python\\python39\\lib\\site-packages (from aiohttp->openai) (1.3.1)\n",
      "Requirement already satisfied: colorama in c:\\users\\manu.venugopalan\\appdata\\roaming\\python\\python39\\site-packages (from tqdm->openai) (0.4.6)\n",
      "Note: you may need to restart the kernel to use updated packages.\n"
     ]
    }
   ],
   "source": [
    "%pip install openai"
   ]
  },
  {
   "cell_type": "code",
   "execution_count": 3,
   "metadata": {},
   "outputs": [
    {
     "name": "stdout",
     "output_type": "stream",
     "text": [
      "Requirement already satisfied: docx in c:\\users\\manu.venugopalan\\appdata\\local\\programs\\python\\python39\\lib\\site-packages (0.2.4)\n",
      "Requirement already satisfied: lxml in c:\\users\\manu.venugopalan\\appdata\\local\\programs\\python\\python39\\lib\\site-packages (from docx) (4.9.3)\n",
      "Requirement already satisfied: Pillow>=2.0 in c:\\users\\manu.venugopalan\\appdata\\local\\programs\\python\\python39\\lib\\site-packages (from docx) (10.0.0)\n",
      "Note: you may need to restart the kernel to use updated packages.\n"
     ]
    }
   ],
   "source": [
    "%pip install docx"
   ]
  },
  {
   "cell_type": "code",
   "execution_count": 4,
   "metadata": {},
   "outputs": [
    {
     "name": "stdout",
     "output_type": "stream",
     "text": [
      "Requirement already satisfied: python-docx in c:\\users\\manu.venugopalan\\appdata\\local\\programs\\python\\python39\\lib\\site-packages (0.8.11)\n",
      "Requirement already satisfied: lxml>=2.3.2 in c:\\users\\manu.venugopalan\\appdata\\local\\programs\\python\\python39\\lib\\site-packages (from python-docx) (4.9.3)\n",
      "Note: you may need to restart the kernel to use updated packages.\n"
     ]
    }
   ],
   "source": [
    "%pip install python-docx\n"
   ]
  },
  {
   "cell_type": "code",
   "execution_count": 5,
   "metadata": {},
   "outputs": [
    {
     "name": "stdout",
     "output_type": "stream",
     "text": [
      "Requirement already satisfied: pydub in c:\\users\\manu.venugopalan\\appdata\\local\\programs\\python\\python39\\lib\\site-packages (0.25.1)\n",
      "Note: you may need to restart the kernel to use updated packages.\n"
     ]
    }
   ],
   "source": [
    "%pip install pydub"
   ]
  },
  {
   "cell_type": "code",
   "execution_count": 6,
   "metadata": {},
   "outputs": [
    {
     "name": "stderr",
     "output_type": "stream",
     "text": [
      "c:\\Users\\manu.venugopalan\\AppData\\Local\\Programs\\Python\\Python39\\lib\\site-packages\\pydub\\utils.py:170: RuntimeWarning: Couldn't find ffmpeg or avconv - defaulting to ffmpeg, but may not work\n",
      "  warn(\"Couldn't find ffmpeg or avconv - defaulting to ffmpeg, but may not work\", RuntimeWarning)\n"
     ]
    }
   ],
   "source": [
    "import openai\n",
    "from docx import Document\n",
    "from pydub import AudioSegment\n",
    "import csv\n"
   ]
  },
  {
   "cell_type": "code",
   "execution_count": 13,
   "metadata": {},
   "outputs": [],
   "source": [
    "# You should provide your API key or create a new API key for authetication purpose (https://platform.openai.com/account/api-keys)\n",
    "\n",
    "openai.api_key = \"Your-APIKEY\""
   ]
  },
  {
   "cell_type": "code",
   "execution_count": 8,
   "metadata": {},
   "outputs": [],
   "source": [
    "# I have set the maximum duration as 10000ms after that it will split the audio and then start converting the new slice\n",
    "# I have used whisper-1 module for the speech to text conversion.\n",
    "# Every time it convert the audio to text, it will get appended to trasncription variable.\n",
    "\n",
    "def split_and_transcribe_audio(audio_file_path, segment_duration_ms=10000):\n",
    "    audio = AudioSegment.from_wav(audio_file_path)\n",
    "    total_duration = len(audio)\n",
    "\n",
    "    start_time = 0\n",
    "    end_time = segment_duration_ms\n",
    "\n",
    "    transcriptions = []\n",
    "\n",
    "    while start_time < total_duration:\n",
    "        segment = audio[start_time:end_time]\n",
    "        segment.export(\"temp_segment.wav\", format=\"wav\")\n",
    "\n",
    "        with open(\"temp_segment.wav\", 'rb') as segment_file:\n",
    "            transcription = openai.Audio.transcribe(\"whisper-1\", segment_file)\n",
    "            transcriptions.append(transcription['text'])\n",
    "\n",
    "        start_time = end_time\n",
    "        end_time += segment_duration_ms\n",
    "\n",
    "    return transcriptions\n"
   ]
  },
  {
   "cell_type": "code",
   "execution_count": 9,
   "metadata": {},
   "outputs": [
    {
     "name": "stdout",
     "output_type": "stream",
     "text": [
      "Segment 1 transcription:\n",
      "Good afternoon everyone and welcome to FinTech Plus Sync's second quarter 2023 earnings call. I'm John Doe, CEO of FinTech Plus.\n",
      "--------------------------------------------------\n",
      "Segment 2 transcription:\n",
      "We've had a stellar Q2 with a revenue of $125 million, a 25% increase year-over-year. Our gross profit\n",
      "--------------------------------------------------\n",
      "Segment 3 transcription:\n",
      "margin stands at a solid 58% due in part to cost efficiencies gained from our scalable business model. Our EBITDA has surged to 3.5%.\n",
      "--------------------------------------------------\n",
      "Segment 4 transcription:\n",
      "37.5M, translating to a remarkable 30% EBITDA margin. Our net income for the quarter rose to $16M, which is a note\n",
      "--------------------------------------------------\n",
      "Segment 5 transcription:\n",
      "worthy increase from $10 million in Q2 2022. Our total addressable market has grown substantially thanks to the expansion of our high yield savings.\n",
      "--------------------------------------------------\n",
      "Segment 6 transcription:\n",
      "product line, and the new RoboAdvisor platform. We've been diversifying our asset-backed securities portfolio, investing heavily in\n",
      "--------------------------------------------------\n",
      "Segment 7 transcription:\n",
      "collateralized debt obligations, and residential mortgage-backed securities. We've also invested $25 million in AAA-rated corporate bonds, enhancing our risk-taking capabilities.\n",
      "--------------------------------------------------\n",
      "Segment 8 transcription:\n",
      "adjusted returns. As for our balance sheet, total assets reached $1.5 billion with total liabilities at $900 million.\n",
      "--------------------------------------------------\n",
      "Segment 9 transcription:\n",
      "million, leaving us with a solid equity base of $600 million. Our debt-to-equity ratio stands at 1.5, a healthy figure considering our\n",
      "--------------------------------------------------\n",
      "Segment 10 transcription:\n",
      "expansionary phase. We continue to see substantial organic user growth with customer acquisition cost dropping by\n",
      "--------------------------------------------------\n",
      "Segment 11 transcription:\n",
      "15% and lifetime value growing by 25%. Our LTV CAC ratio is at an impression, impressive.\n",
      "--------------------------------------------------\n",
      "Segment 12 transcription:\n",
      "3.5 percent X. In terms of risk management, we have a value at risk model in place with \n",
      "--------------------------------------------------\n",
      "Segment 13 transcription:\n",
      "99% confidence level indicating that our maximum loss will not exceed 5 million in the next trading day We've adopted a conservative approach to manage\n",
      "--------------------------------------------------\n",
      "Segment 14 transcription:\n",
      "managing our leverage, and have a healthy tier 1 capital ratio of 12.5%. Our forecast for the coming quarter is positive.\n",
      "--------------------------------------------------\n",
      "Segment 15 transcription:\n",
      "We expect revenue to be around $135 million and 8% quarter-over-quarter growth, driven primarily by our cutting-edge blockchain solutions and AI.\n",
      "--------------------------------------------------\n",
      "Segment 16 transcription:\n",
      "predictive analytics. We're also excited about the upcoming IPO of our fintech subsidiary Pay Plus which we expect to raise two hundred million dollars.\n",
      "--------------------------------------------------\n",
      "Segment 17 transcription:\n",
      "billion, significantly bolstering our liquidity and paving the way for aggressive growth strategies. We thank our shareholders for their continued faith\n",
      "--------------------------------------------------\n",
      "Segment 18 transcription:\n",
      "us and we look forward to an even more successful Q3. Thank you so much.\n",
      "--------------------------------------------------\n"
     ]
    }
   ],
   "source": [
    "# Settting the path to the audio file \n",
    "# calling the split_and_transcribe_audio method\n",
    "# iterating through the transcription\n",
    "# Give the path where code can find the input file (for example, ...Downloads\\\\EarningsCall.wav).\n",
    "\n",
    "audio_file_path = \"Your input path\\\\EarningsCall.wav\"\n",
    "transcriptions = split_and_transcribe_audio(audio_file_path)\n",
    "\n",
    "for i, transcription in enumerate(transcriptions):\n",
    "    print(f\"Segment {i + 1} transcription:\")\n",
    "    print(transcription)\n",
    "    print(\"-\" * 50)"
   ]
  },
  {
   "cell_type": "code",
   "execution_count": 10,
   "metadata": {},
   "outputs": [],
   "source": [
    "# If we are using Open AI, we will be charged for using the API or models\n",
    "# So, it is alwasys beneficial to write the result to CSV or desired file format.\n",
    "# We can resuse this for some other purpose.\n",
    "\n",
    "def save_transcriptions_to_csv(transcriptions, csv_file_path):\n",
    "    with open(csv_file_path, 'w', newline='', encoding='utf-8') as csvfile:\n",
    "        csv_writer = csv.writer(csvfile)\n",
    "        csv_writer.writerow(['Segment', 'Transcription'])\n",
    "\n",
    "        for i, transcription in enumerate(transcriptions):\n",
    "            csv_writer.writerow([i + 1, transcription])"
   ]
  },
  {
   "cell_type": "code",
   "execution_count": 11,
   "metadata": {},
   "outputs": [],
   "source": [
    "# Setting the path where my output file file falls to\n",
    "# calling the save_transcriptions_to_csv method.\n",
    "# Give the path where you want to save the output file (for example, ...Downloads\\\\transcriptions.csv).\n",
    "\n",
    "csv_file_path = \"your output folder\\\\transcriptions.csv\"\n",
    "save_transcriptions_to_csv(transcriptions, csv_file_path)"
   ]
  },
  {
   "cell_type": "code",
   "execution_count": null,
   "metadata": {},
   "outputs": [],
   "source": []
  },
  {
   "cell_type": "code",
   "execution_count": null,
   "metadata": {},
   "outputs": [],
   "source": []
  }
 ],
 "metadata": {
  "kernelspec": {
   "display_name": "Python 3",
   "language": "python",
   "name": "python3"
  },
  "language_info": {
   "codemirror_mode": {
    "name": "ipython",
    "version": 3
   },
   "file_extension": ".py",
   "mimetype": "text/x-python",
   "name": "python",
   "nbconvert_exporter": "python",
   "pygments_lexer": "ipython3",
   "version": "3.9.13"
  },
  "orig_nbformat": 4
 },
 "nbformat": 4,
 "nbformat_minor": 2
}
